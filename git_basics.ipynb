{
 "cells": [
  {
   "cell_type": "markdown",
   "id": "0bddba18-3da6-4e26-ab6b-2c19f60d3c08",
   "metadata": {},
   "source": [
    "<h1>Git Basics Guide</h1>"
   ]
  },
  {
   "cell_type": "markdown",
   "id": "ef592476-78b1-4094-9e99-f24c6f06bcb7",
   "metadata": {},
   "source": [
    "In this guide, we will go over some basic Git principles and commands that will be essential to your experience in 67-336. This is by no means a full comprehensive guide to Git, but we will cover the basics you'll need to know for the course. For additional information, please visit https://github.com/git-guides and https://training.github.com/downloads/github-git-cheat-sheet.pdf, which are both partially the inspiration for this guide.\n",
    "\n",
    "All commands given are meant to be run in terminal.\n",
    "<hr>"
   ]
  },
  {
   "cell_type": "markdown",
   "id": "ee05a60b-da4e-4b0d-a00c-978baf21cc96",
   "metadata": {},
   "source": [
    "<h2>Starting Out</h2>"
   ]
  },
  {
   "cell_type": "markdown",
   "id": "7f5b9d1a-0b53-4f05-9707-efedc6c4bdea",
   "metadata": {},
   "source": [
    "To start, what is Git? Git is a distributed version control software. When writing code, we want to be able to save our changes periodically without overwriting the previous versions of work. This way, if we mess up something, we can easily go back to a previous \"savepoint\" in which our code was unaffected. This gives us the freedom to experiment and write code freely without being fearful of not being able to go back.\n",
    "<hr>"
   ]
  },
  {
   "cell_type": "markdown",
   "id": "651fee22-3d6f-401d-92f7-f86ff4e841b3",
   "metadata": {},
   "source": [
    "<h3>How Does Git Work?</h3>"
   ]
  },
  {
   "cell_type": "markdown",
   "id": "14d3b640-1ff1-4c71-8611-0837f7fb2e67",
   "metadata": {},
   "source": [
    "What Git is essentially doing is it takes a \"snapshot\" of your entire repository every time you use it and gives you references to each of these snapshots in the form of a \"commit\". \n",
    ">Best practice is to **commit often** and do a commit for each *distinct* change (try not to group too many different changes in one commit).\n",
    "\n",
    "<hr>"
   ]
  },
  {
   "cell_type": "markdown",
   "id": "e88a65a5-2452-49c1-bbf6-01ff094a4c06",
   "metadata": {},
   "source": [
    "<h3>Repositories</h3>"
   ]
  },
  {
   "cell_type": "markdown",
   "id": "308f7070-55b4-4057-bdcc-80f6c677d31a",
   "metadata": {},
   "source": [
    "Repositories are a centralized space in which all files for a project are kept. There are two types we will be referring to: local repositories and remote repositories. Local repositories are hosted and stored on your local machine, whereas remote repositories (the ones uploaded to GitHub) are stored on GitHub and are usually shared as a common repository where multiple people can exchange their changes (that they have made locally). Remote repositories, when used in conjunction with feature branches (will be discussed in the \"Branches\" section), can be helpful for parallel development and synchronization.\n",
    "\n",
    "<hr>\n",
    "<h4><strong>Learn by Example: Initializing A Git Repository</strong></h4>\n",
    "\n",
    "You can check your current directory by running the following command:\n",
    ">`cd`\n",
    "\n",
    "\n",
    "If you are creating an app and you want to turn your existing directory in which all the files for your app into a Git repository, you can run the following command in that directory:\n",
    ">`git init`\n",
    "\n",
    "<hr>\n",
    "<h4><strong>Learn by Example: Cloning A Git Repository</strong></h4>\n",
    "\n",
    "You can check your current directory by running the following command:\n",
    ">`cd`\n",
    "\n",
    "If you are trying to download an app's Git repository from GitHub (also known as cloning) to your local machine, run the following command in the directory you want to store that repository in:\n",
    ">`git clone [url]`\n",
    "><br>\n",
    "> For example, if we are trying to clone from the repository at https://github.com/SimpleMobileTools/Simple-Clock.git,\n",
    "><br>\n",
    "> we would use `git clone https://github.com/SimpleMobileTools/Simple-Clock.git`\n",
    "\n",
    "<br>\n",
    "<hr>"
   ]
  },
  {
   "cell_type": "markdown",
   "id": "2cbcd659-fa31-4c86-94cb-7955a633764a",
   "metadata": {},
   "source": [
    "<h3>Branches</h3>"
   ]
  },
  {
   "cell_type": "markdown",
   "id": "6253af9c-b8c6-44dd-8ec3-2822d29a5a2a",
   "metadata": {},
   "source": [
    "In Git, branches are like parallel lines of development. You can have many branches at once, although there is one *key* branch you should **never** directly work on: `main`. The `main` branch should be your golden branch and should only contain the most current code that basically \"perfect\" and not buggy. Instead of working directly on `main`, you should create *feature* branches that focus on one function or feature at a time. Best practice is to name these feature branches after the focus of the branch."
   ]
  },
  {
   "cell_type": "markdown",
   "id": "50fab4ba-f4b8-4813-a75c-5eba7b91ae5a",
   "metadata": {},
   "source": [
    "<hr>\n",
    "<h4><strong>Learn by Example: Creating and Deleting a Feature Branch</strong></h4>\n",
    "\n",
    "If you are creating a stopwatch app and you want to work on the start button, you should create a feature branch called `start-button` or something to that effect.\n",
    "<br>\n",
    "\n",
    "To create a branch, make sure you are on `main` first:\n",
    "<br>\n",
    ">`git branch`\n",
    "<br>\n",
    ">There will be a `*` next to the current branch you are on.\n",
    "<br>\n",
    "\n",
    "To switch your branch to the main branch:\n",
    "<br>\n",
    ">`git checkout main`\n",
    "<br>\n",
    "\n",
    "To checkout/create your new branch:\n",
    "<br>\n",
    ">`git checkout -b [branch-name]`\n",
    "<br>\n",
    "In the example, we would do `git checkout -b start-button`\n",
    "\n",
    "To delete your branch (can be used when you no longer need it or it was created by accident):\n",
    "<br>\n",
    ">`git branch -d [branch-name]`\n",
    "<br>\n",
    "In the example, we would do `git branch -d start-button`\n",
    "\n",
    "<hr>\n",
    "<h4><strong>Learn by Example: Merging a Feature Branch</strong></h4>\n",
    "\n",
    "If you are creating a stopwatch app and you want to merge your work on the `start-button` feature branch into your `main` branch, start by making sure you are the `main` branch first:\n",
    "<br>\n",
    ">`git branch`\n",
    "<br>\n",
    ">There will be a `*` next to the current branch you are on.\n",
    "\n",
    "To switch your branch to the main branch:\n",
    "<br>\n",
    ">`git checkout main`\n",
    "<br>\n",
    "\n",
    "Now to merge your feature branch into `main`:\n",
    "<br>\n",
    ">`git merge [branch-name]`\n",
    "<br>\n",
    "In the example, we would do `git merge start-button`.\n",
    "You can also use this command to merge with other branches (if this is what you want to do). Make sure you are on the branch you are merging your changes into.\n",
    "\n",
    "<br>\n",
    "<hr>"
   ]
  },
  {
   "cell_type": "markdown",
   "id": "be1ff72f-772d-4258-9d2a-85a399a04967",
   "metadata": {},
   "source": [
    "<h3>Git Workflow</h3>"
   ]
  },
  {
   "cell_type": "markdown",
   "id": "c93b1909-29e6-4f10-8238-310f58651e20",
   "metadata": {},
   "source": [
    "In Git, there is a specific workflow to get your changes from your local machine to the remote repository. This workflow can be remembered by the acronoym ACMP, which stands for `Add` `Commit` `Merge` `Push`. To better understand where each of these fit into the workflow, see the image below for a visualization."
   ]
  },
  {
   "cell_type": "markdown",
   "id": "2e88e25b-8ae8-465c-ad12-2eeb0a94d936",
   "metadata": {},
   "source": [
    "![Diagram of IT Processes](https://i.imgur.com/IAf07RT.jpeg)"
   ]
  },
  {
   "cell_type": "markdown",
   "id": "af4aed4c-2992-4ee8-ac6c-7bfe692423c3",
   "metadata": {},
   "source": [
    "There are 4 spaces involved in the workflow of making a change in Git:\n",
    "1. Working Directory\n",
    "> This is where you make the changes on your local machine. This directory holds all your local project files. Any changes you make here will not be tracked until added to staging.\n",
    "\n",
    "2. Staging\n",
    "> This area is also known as the index. This holds all the changes you have made since your last commit (you'll have to add the files these changes are in). For example, if I changed the color of my start button inside the `start-button-colors.js` file while making the stopwatch app from the example, I would have to add `start-button-colors.js` to staging using `git add`.\n",
    "\n",
    "4. Local Repository\n",
    "> This is where all the changes you have committed are in. When you push these changes, they are sent and copied to the remote repository.\n",
    "\n",
    "6. Remote Repository\n",
    "> This is where the remote version of your repository is hosted on a remote server (in our case, GitHub).\n",
    "\n",
    "<hr>\n",
    "<h4><strong>Learn by Example: Git Workflow</strong></h4>\n",
    "Say you and a teammate are both working on the start button feature for your stopwatch app. What are the steps you should take to make a change on your local machine and bring it all the way to the remote repository?\n",
    "\n",
    "1. Make your changes\n",
    "> In the example, I am changing the color of the start button for my stopwatch app in the file `start-button-colors.js`.\n",
    "\n",
    "2. Add your changes to staging\n",
    ">`git add [file-name]`\n",
    "><br>\n",
    "> In the example, I made my changes in the file `start-button-colors.js` so I would do `git add start-button-colors.js`.\n",
    "\n",
    "Helpful Tips!\n",
    "> If you are unsure of what changes are and aren't being tracked yet:\n",
    "> <br>\n",
    "> `git status`\n",
    "\n",
    "> If you want to add all the changes made at once to staging (track all):\n",
    "> <br>\n",
    "> `git add .`\n",
    "> <br>\n",
    "> Make sure there is a space between \"add\" and \".\"!\n",
    "\n",
    "3. Commit your changes to the local repository\n",
    ">`git commit -m \"[commit message]\"`\n",
    "><br>\n",
    ">Use imperative present tense. We should be able to read the commit message as \"This commit will [commit messsage].\"\n",
    "><br>\n",
    ">In the example, I would do `git commit -m \"Change the color of start button from white to green.\"`\n",
    "><br>\n",
    ">We can read it as \"This commit will change the color of start button from white to green.\"\n",
    "\n",
    "4. Push the commits from your local repository to the remote repository\n",
    ">See the next section, **Change Synchronization**, on the specifics of doing this.\n",
    "\n",
    "<br>\n",
    "<hr>"
   ]
  },
  {
   "cell_type": "markdown",
   "id": "1259c015-09d5-4098-bd0b-2c16c49b935e",
   "metadata": {},
   "source": [
    "<h3>Change Synchronization</h3>"
   ]
  },
  {
   "cell_type": "markdown",
   "id": "b0903100-86fa-4bb1-badf-82c6a25054f9",
   "metadata": {},
   "source": [
    "In Git, there are ways to synchronize both your local changes and the changes made to the remote repository so that your local repository and the remote repository are in sync. When you create a branch locally that is also tracked by the remote repository, this is usually done by having your local branch track its remote counterpart (for example, `start-button` on my local machine would track `start-button` on the remote repository) and any changes made to the remote branch would need to be synchronized with the local branch.\n",
    "\n",
    "To perform this kind of synchronization, there are two ways: `fetch` and then `merge` or `pull`. `pull` is the combination of `fetch` and `merge`. It is recommended to use `pull` whenever possible to simplify the process and minimize chances of error. That being said, we will touch on both since there are use cases for both ways of synchronizing changes from the remote repository to the local repository. \n",
    "The other kind of synchronization we will discuss is synchronizing changes from your local branch to the remote branch using `push` so your local changes will be accessible on the remote repository.\n",
    "\n",
    "<hr>\n",
    "<h4><strong>Learn by Example: Synchronizing Remote Changes with Pull</strong></h4>\n",
    "Say you and a teammate are both working on the start button feature for your stopwatch app and your teammate has implemented some function for that feature (it was assigned to them). You would want to have the changes they made and pushed (we'll talk more about this in a bit) to the remote repository. If these changes were made on the `start-button` branch, the remote version of that branch is the \"upstream\" of your local `start-button` branch.\n",
    "\n",
    "Start by ensuring that you are on the feature branch you are about to pull the changes into (you can checkout to the branch):\n",
    ">`git checkout [local-branch-name]`\n",
    "><br>\n",
    "In the example, we would do `git checkout start-button`.\n",
    "\n",
    "After ensuring we are on the local feature branch that we are about to merge into:\n",
    ">`git pull origin [remote-branch-name]`\n",
    "><br>\n",
    "In the example, we would do `git pull origin start-button`\n",
    "><br>\n",
    ">(assuming the remote and the local branch share the same name).\n",
    "\n",
    "If the `start-button` local branch is already set up to track the remote `start-button` branch, this is made even simpler:\n",
    ">`git pull`\n",
    "><br>\n",
    "This would be sufficient.\n",
    "\n",
    "To set up a local feature branch to track a remote branch:\n",
    ">`git branch --set-upstream-to=origin/[remote-branch-name]`\n",
    "><br>\n",
    "In the example, we would do `git branch --set-upstream-to=origin/start-button`\n",
    "><br>\n",
    ">(assuming the remote and the local branch share the same name).\n",
    "\n",
    "<hr>\n",
    "<h4><strong>Learn by Example: Synchronizing Remote Changes with Fetch and Merge</strong></h4>\n",
    "Say you and a teammate are both working on the start button feature for your stopwatch app and your teammate has implemented some function for that feature (it was assigned to them). You would want to have the changes they made and pushed to the remote repository. If these changes were made on the `start-button` branch, the remote version of that branch is the \"upstream\" of your local `start-button` branch.\n",
    "\n",
    "To download any changes made on the remote tracking branch:\n",
    ">`git fetch origin [remote-branch-name]:[local-branch-name]`\n",
    "><br>\n",
    "In the example, we would do `git fetch origin start-button:start-button`\n",
    "><br>\n",
    "(assuming the remote and the local branch share the same name).\n",
    "\n",
    "To download all changes made on the remote repository at once (not just from one specific branch):\n",
    ">`git fetch origin`\n",
    "\n",
    "After downloading the changes from remote, you will need to merge the changes into your local branch. First, be sure you are on the feature branch you are about to merge (you can checkout to the branch):\n",
    ">`git checkout [local-branch-name]`\n",
    "><br>\n",
    "In the example, we would do `git checkout start-button`.\n",
    "\n",
    "After ensuring we are on the local feature branch that we are about to merge into:\n",
    ">`git merge origin/[remote-branch-name]`\n",
    "><br>\n",
    "In the example, we would do `git merge origin/start-button`\n",
    "><br>\n",
    "(assuming the remote and the local branch share the same name).\n",
    "\n",
    "These instructions will work for fetching and merging changes for any branch including `main`.\n",
    "\n",
    "<hr>\n",
    "<h4><strong>Learn by Example: Synchronizing Local Changes with Push</strong></h4>\n",
    "Say you and a teammate are both working on the start button feature for your stopwatch app and you have implemented some function for that feature (it was assigned to you). Your teammate would want to have the changes you made and pushed to the remote repository. If these changes were made on the `start-button` branch, the remote version of that branch is the \"upstream\" of your local `start-button` branch.\n",
    "\n",
    "When you push changes to the remote repository, you are uploading all of your local branch commits. This can be done *after* committing your changes by doing this:\n",
    ">`git push origin [local-branch-name]`\n",
    "><br>\n",
    "In the example, we would do `git push origin start-button`\n",
    "\n",
    "If you have not yet set the \"upstream\" remote branch yet:\n",
    ">`git push -u origin [remote-branch-name]`\n",
    "><br>\n",
    "This would allow you to just run `git push` next time.\n",
    "><br>\n",
    "In the example, we would do `git push -u origin start-button`\n",
    "><br>\n",
    "(assuming the remote and the local branch share the same name).\n",
    "\n",
    "If you have already set an \"upstream\" remote branch for your local branch to track\n",
    ">`git push`\n",
    "><br>\n",
    "This would be sufficient."
   ]
  }
 ],
 "metadata": {
  "kernelspec": {
   "display_name": "Python 3 (ipykernel)",
   "language": "python",
   "name": "python3"
  },
  "language_info": {
   "codemirror_mode": {
    "name": "ipython",
    "version": 3
   },
   "file_extension": ".py",
   "mimetype": "text/x-python",
   "name": "python",
   "nbconvert_exporter": "python",
   "pygments_lexer": "ipython3",
   "version": "3.11.8"
  }
 },
 "nbformat": 4,
 "nbformat_minor": 5
}
